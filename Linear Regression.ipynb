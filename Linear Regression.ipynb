{
 "cells": [
  {
   "cell_type": "markdown",
   "metadata": {},
   "source": [
    "# Linear Regression"
   ]
  },
  {
   "cell_type": "markdown",
   "metadata": {},
   "source": [
    "### The Problem\n",
    "Given a set of points on a 2D plane, how can we find the best fit line?\n",
    "\n",
    "### The Theory\n",
    "We find the best fit line y = mx + c by minimizing the sum of squared errors.\n",
    "\n",
    "### How it works\n",
    "1. Initialise the line y = mx + c with a random value\n",
    "2. Calculate the sum of squared errors\n",
    "3. Using the power rule, we calculate the partial derivative of the error function with respect to both m and b\n",
    "4. Calculate the step-gradient using the partial derivatives\n",
    "5. Obtain new m and b values by multiplying the step-gradients for m abd b with the learning rate\n",
    "6. Repeat steps 2-5 until the optimal gradient is met"
   ]
  },
  {
   "cell_type": "code",
   "execution_count": 5,
   "metadata": {
    "collapsed": true
   },
   "outputs": [],
   "source": [
    "# import numpy\n",
    "import numpy as np"
   ]
  },
  {
   "cell_type": "code",
   "execution_count": 6,
   "metadata": {
    "collapsed": true
   },
   "outputs": [],
   "source": [
    "# define functions\n",
    "\n",
    "# compute error\n",
    "def compute_error_for_line_given_points(b, m, points):\n",
    "    # initialise error as 0\n",
    "    totalError = 0\n",
    "    # get x and y values from data\n",
    "    for i in range(0, len(points)):\n",
    "        x = points[i, 0]\n",
    "        y = points[i, 1]\n",
    "        # calculate the square of y (from data) minus point on our line\n",
    "        totalError += (y - (m * x + b)) ** 2\n",
    "    # return the total error as a float\n",
    "    return totalError / float(len(points))\n",
    "\n",
    "# calculate the new b and new m using step gradient\n",
    "def step_gradient(b_current, m_current, points, learning_rate):\n",
    "    # initialise gradients as 0\n",
    "    b_gradient = 0\n",
    "    m_gradient = 0\n",
    "    # N is the number of points\n",
    "    N = float(len(points))\n",
    "    # for every point, calculate b-gradient and m-gradient using their partial derivatives\n",
    "    # then sum them up together\n",
    "    for i in range(0, len(points)):\n",
    "        x = points[i, 0]\n",
    "        y = points[i, 1]\n",
    "        # use chain rule to calculate the formula\n",
    "        b_gradient += -(2/N) * (y - ((m_current * x) + b_current))\n",
    "        m_gradient += -(2/N) * x * (y - ((m_current * x) + b_current))\n",
    "    # calculate new b and new m\n",
    "    new_b = b_current - (learning_rate * b_gradient)\n",
    "    new_m = m_current - (learning_rate * m_gradient)\n",
    "    return [new_b, new_m]\n",
    "\n",
    "# iterate num_iteration times, running step gradient function each time\n",
    "def gradient_descent_iterator(points, starting_b, starting_m, learning_rate, num_iterations):\n",
    "    b = starting_b\n",
    "    m = starting_m\n",
    "    for i in range(num_iterations):\n",
    "        b, m = step_gradient(b, m, np.array(points), learning_rate)\n",
    "    # return the final values after training\n",
    "    return b, m"
   ]
  },
  {
   "cell_type": "code",
   "execution_count": 7,
   "metadata": {
    "collapsed": true
   },
   "outputs": [],
   "source": [
    "# initialise parameters\n",
    "\n",
    "# get datapoints from data.csv, using \",\" as the delimiter\n",
    "points = np.genfromtxt(\"data.csv\", delimiter=\",\")\n",
    "# set learning rate that will determine how fast b and m will change\n",
    "learning_rate = 0.0001\n",
    "# initial y-intercept guess\n",
    "initial_b = 0\n",
    "# initial slope guess\n",
    "initial_m = 0\n",
    "# number of times we will run the functions\n",
    "num_iterations = 1000"
   ]
  },
  {
   "cell_type": "code",
   "execution_count": 51,
   "metadata": {},
   "outputs": [
    {
     "name": "stdout",
     "output_type": "stream",
     "text": [
      "Starting gradient descent at b = 0, m = 0, error = 5565.107834483211\n",
      "After 1000 iterations b = 0.08893651993741346, m = 1.4777440851894448, error = 112.61481011613473\n"
     ]
    }
   ],
   "source": [
    "# run the code and print results\n",
    "\n",
    "print(\"Starting gradient descent at b = {0}, m = {1}, error = {2}\"\\\n",
    "      .format(initial_b, initial_m, compute_error_for_line_given_points(initial_b, initial_m, points)))\n",
    "b, m = gradient_descent_iterator(points, initial_b, initial_m, learning_rate, num_iterations)\n",
    "print(\"After {0} iterations b = {1}, m = {2}, error = {3}\"\\\n",
    "      .format(num_iterations, b, m, compute_error_for_line_given_points(b, m, points)))"
   ]
  },
  {
   "cell_type": "markdown",
   "metadata": {},
   "source": [
    "### Plot Graph"
   ]
  },
  {
   "cell_type": "code",
   "execution_count": 52,
   "metadata": {
    "collapsed": true
   },
   "outputs": [],
   "source": [
    "%matplotlib inline\n",
    "import matplotlib.pyplot as plt"
   ]
  },
  {
   "cell_type": "code",
   "execution_count": 53,
   "metadata": {
    "collapsed": true
   },
   "outputs": [],
   "source": [
    "# get all data points\n",
    "x, y = zip(*points)"
   ]
  },
  {
   "cell_type": "code",
   "execution_count": 55,
   "metadata": {},
   "outputs": [
    {
     "data": {
      "text/plain": [
       "[<matplotlib.lines.Line2D at 0x16f54815358>]"
      ]
     },
     "execution_count": 55,
     "metadata": {},
     "output_type": "execute_result"
    },
    {
     "data": {
      "image/png": "[encoded data removed]",
      "text/plain": [
       "<matplotlib.figure.Figure at 0x16f5511ba20>"
      ]
     },
     "metadata": {},
     "output_type": "display_data"
    }
   ],
   "source": [
    "# plot graph\n",
    "\n",
    "# scatter graph of all points\n",
    "plt.scatter(x,y)\n",
    "\n",
    "# plot best fit line from 20 to 70\n",
    "x1 = np.linspace(20,70)\n",
    "plt.plot(x1, (m*x1 + b), '-')"
   ]
  }
 ],
 "metadata": {
  "kernelspec": {
   "display_name": "Python 3",
   "language": "python",
   "name": "python3"
  },
  "language_info": {
   "codemirror_mode": {
    "name": "ipython",
    "version": 3
   },
   "file_extension": ".py",
   "mimetype": "text/x-python",
   "name": "python",
   "nbconvert_exporter": "python",
   "pygments_lexer": "ipython3",
   "version": "3.6.1"
  }
 },
 "nbformat": 4,
 "nbformat_minor": 2
}
